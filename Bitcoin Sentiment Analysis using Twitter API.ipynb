{
 "cells": [
  {
   "cell_type": "code",
   "execution_count": 1,
   "id": "84ab17b5",
   "metadata": {},
   "outputs": [],
   "source": [
    "import tweepy as tw\n",
    "import pandas as pd\n",
    "import numpy as np"
   ]
  },
  {
   "cell_type": "markdown",
   "id": "6a7947ae",
   "metadata": {},
   "source": [
    "### Authentication"
   ]
  },
  {
   "cell_type": "code",
   "execution_count": null,
   "id": "88001353",
   "metadata": {},
   "outputs": [],
   "source": [
    "import twtr_credentials  #keys and tokens file"
   ]
  },
  {
   "cell_type": "code",
   "execution_count": null,
   "id": "6007b75a",
   "metadata": {},
   "outputs": [],
   "source": [
    "auth = tw.OAuthHandler(twtr_credentials.API_key, twtr_credentials.API_key_secret)\n",
    "auth.set_access_token(twtr_credentials.Access_token, twtr_credentials.Access_token_secret)\n",
    "api = tw.API(auth, wait_on_rate_limit=True)"
   ]
  },
  {
   "cell_type": "markdown",
   "id": "f9325655",
   "metadata": {},
   "source": [
    "### Get Tweets"
   ]
  },
  {
   "cell_type": "code",
   "execution_count": null,
   "id": "f35672a5",
   "metadata": {},
   "outputs": [],
   "source": [
    "hashtag = '#bitcoin'"
   ]
  },
  {
   "cell_type": "code",
   "execution_count": null,
   "id": "acb4ec72",
   "metadata": {},
   "outputs": [],
   "source": [
    "query = tw.Cursor(api.search_tweets, q=hashtag).items(1000)\n",
    "tweets = [{'Tweets':tweet.text, 'Timestamp':tweet.created_at} for tweet in query]"
   ]
  },
  {
   "cell_type": "code",
   "execution_count": null,
   "id": "ea494f2c",
   "metadata": {},
   "outputs": [],
   "source": [
    "df = pd.DataFrame(tweets)"
   ]
  },
  {
   "cell_type": "markdown",
   "id": "9df11d59",
   "metadata": {},
   "source": [
    "### Preprocessing"
   ]
  },
  {
   "cell_type": "code",
   "execution_count": null,
   "id": "6fcc287d",
   "metadata": {},
   "outputs": [],
   "source": [
    "import nltk\n",
    "from nltk.corpus import stopwords\n",
    "from textblob import Word, TextBlob"
   ]
  },
  {
   "cell_type": "code",
   "execution_count": null,
   "id": "7840b5c9",
   "metadata": {},
   "outputs": [],
   "source": [
    "nltk.download('stopwords')\n",
    "nltk.download('wordnet')\n",
    "stop_words = stopwords.words('english')\n",
    "cust_words = ['RT','#bitcoin']"
   ]
  },
  {
   "cell_type": "code",
   "execution_count": null,
   "id": "8de6eb75",
   "metadata": {},
   "outputs": [],
   "source": [
    "def preporcess_tweets(tweet, cust_words):\n",
    "    preprocessed_tweet = tweet\n",
    "    preprocessed_tweet.replace('[^\\w\\s]','')\n",
    "    preprocessed_tweet = ' '.join(word for word in preprocessed_tweet.split() if word not in stop_words)\n",
    "    preprocessed_tweet = ' '.join(word for word in preprocessed_tweet.split() if word not in cust_words)\n",
    "    preprocessed_tweet = ' '.join(Word(word).lemmatize() for word in preprocessed_tweet.split())\n",
    "    return preprocessed_tweet"
   ]
  },
  {
   "cell_type": "code",
   "execution_count": null,
   "id": "a56054fd",
   "metadata": {},
   "outputs": [],
   "source": [
    "df['Processed Tweet'] = df['Tweets'].apply(lambda x: preporcess_tweets(x, cust_words))"
   ]
  },
  {
   "cell_type": "markdown",
   "id": "67617b4f",
   "metadata": {},
   "source": [
    "### Sentiment Analysis"
   ]
  },
  {
   "cell_type": "code",
   "execution_count": null,
   "id": "56d397b9",
   "metadata": {},
   "outputs": [],
   "source": [
    "df['Polarity'] = df['Processed Tweet'].apply(lambda x: TextBlob(x).sentiment[0])\n",
    "df['Subjectivity'] = df['Processed Tweet'].apply(lambda x: TextBlob(x).sentiment[1])"
   ]
  },
  {
   "cell_type": "code",
   "execution_count": null,
   "id": "57b4114b",
   "metadata": {},
   "outputs": [],
   "source": [
    "df.describe()"
   ]
  },
  {
   "cell_type": "markdown",
   "id": "6f6890b5",
   "metadata": {},
   "source": [
    "### Visualize"
   ]
  },
  {
   "cell_type": "code",
   "execution_count": null,
   "id": "c3004c1f",
   "metadata": {},
   "outputs": [],
   "source": [
    "import matplotlib.pyplot as plt\n",
    "import seaborn as sns\n",
    "%matplotlib inline\n",
    "plt.style.use('fivethirtyeight')"
   ]
  },
  {
   "cell_type": "code",
   "execution_count": null,
   "id": "1190129c",
   "metadata": {},
   "outputs": [],
   "source": [
    "df['MA Polarity'] = df.Polarity.rolling(10, min_periods = 3).mean()"
   ]
  },
  {
   "cell_type": "code",
   "execution_count": null,
   "id": "677199b9",
   "metadata": {},
   "outputs": [],
   "source": [
    "plt.figure(figsize=(16,6))\n",
    "plt.plot(df['Timestamp'],df['MA Polarity'])"
   ]
  }
 ],
 "metadata": {
  "kernelspec": {
   "display_name": "Python 3 (ipykernel)",
   "language": "python",
   "name": "python3"
  },
  "language_info": {
   "codemirror_mode": {
    "name": "ipython",
    "version": 3
   },
   "file_extension": ".py",
   "mimetype": "text/x-python",
   "name": "python",
   "nbconvert_exporter": "python",
   "pygments_lexer": "ipython3",
   "version": "3.9.7"
  }
 },
 "nbformat": 4,
 "nbformat_minor": 5
}
